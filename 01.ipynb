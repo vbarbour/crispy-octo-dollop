{
 "cells": [
  {
   "cell_type": "code",
   "execution_count": 1,
   "id": "17c86728-0f5e-4ec6-acc4-b2670f9e8e63",
   "metadata": {},
   "outputs": [],
   "source": [
    "import roboticstoolbox as rtb\n",
    "import numpy as np"
   ]
  },
  {
   "cell_type": "code",
   "execution_count": 2,
   "id": "4202a4c6-0609-41a9-b0fc-70c68abc0b57",
   "metadata": {},
   "outputs": [],
   "source": [
    "class Spatial3R(rtb.DHRobot):\n",
    "\n",
    "    def __init__(self):\n",
    "        super().__init__(\n",
    "                [\n",
    "                    rtb.RevoluteMDH(),\n",
    "                    rtb.RevoluteMDH(alpha=-np.pi/2),\n",
    "                    #rtb.RevoluteMDH(a=L1,d=d),\n",
    "                    rtb.RevoluteMDH(a=0.5,d=0.25),\n",
    "                ], name=\"Spatial3R\"\n",
    "                        )"
   ]
  },
  {
   "cell_type": "code",
   "execution_count": 3,
   "id": "e116954e-3486-4a52-951c-bc1da724d4e6",
   "metadata": {},
   "outputs": [],
   "source": [
    "class Spatial3RDH(rtb.DHRobot):\n",
    "\n",
    "    def __init__(self):\n",
    "        super().__init__(\n",
    "                [\n",
    "                    rtb.RevoluteDH(alpha=-np.pi/2),\n",
    "                    rtb.RevoluteDH(d=0.25,a=0.5),\n",
    "                    #rtb.RevoluteMDH(a=L1,d=d),\n",
    "                    rtb.RevoluteDH(),\n",
    "                ], name=\"Spatial3R\"\n",
    "                        )"
   ]
  },
  {
   "cell_type": "code",
   "execution_count": 4,
   "id": "4ded61e1-6d10-41c2-bada-b2ef87987c9e",
   "metadata": {},
   "outputs": [
    {
     "name": "stdout",
     "output_type": "stream",
     "text": [
      "DHRobot: Spatial3R, 3 joints (RRR), dynamics, modified DH parameters\n",
      "┏━━━━━┳━━━━━━━━┳━━━━━┳━━━━━━┓\n",
      "┃aⱼ₋₁ ┃  ⍺ⱼ₋₁  ┃ θⱼ  ┃  dⱼ  ┃\n",
      "┣━━━━━╋━━━━━━━━╋━━━━━╋━━━━━━┫\n",
      "┃ 0.0 ┃   0.0° ┃  q1 ┃  0.0 ┃\n",
      "┃ 0.0 ┃ -90.0° ┃  q2 ┃  0.0 ┃\n",
      "┃ 0.5 ┃   0.0° ┃  q3 ┃ 0.25 ┃\n",
      "┗━━━━━┻━━━━━━━━┻━━━━━┻━━━━━━┛\n",
      "\n"
     ]
    }
   ],
   "source": [
    "r_mdh = Spatial3R()\n",
    "print(r_mdh)"
   ]
  },
  {
   "cell_type": "code",
   "execution_count": 7,
   "id": "1b24bdbc-f475-4f29-b959-43891f5f550c",
   "metadata": {},
   "outputs": [
    {
     "name": "stdout",
     "output_type": "stream",
     "text": [
      "DHRobot: Spatial3R, 3 joints (RRR), dynamics, standard DH parameters\n",
      "┏━━━━┳━━━━━━┳━━━━━┳━━━━━━━━┓\n",
      "┃θⱼ  ┃  dⱼ  ┃ aⱼ  ┃   ⍺ⱼ   ┃\n",
      "┣━━━━╋━━━━━━╋━━━━━╋━━━━━━━━┫\n",
      "┃ q1 ┃    0 ┃   0 ┃ -90.0° ┃\n",
      "┃ q2 ┃ 0.25 ┃ 0.5 ┃   0.0° ┃\n",
      "┃ q3 ┃    0 ┃   0 ┃   0.0° ┃\n",
      "┗━━━━┻━━━━━━┻━━━━━┻━━━━━━━━┛\n",
      "\n"
     ]
    }
   ],
   "source": [
    "r_dh = Spatial3RDH()\n",
    "print(r_dh)"
   ]
  },
  {
   "cell_type": "code",
   "execution_count": 6,
   "id": "09179e4c-0a12-4d9f-a169-a103b79856cb",
   "metadata": {},
   "outputs": [],
   "source": [
    "T_spatial = r_mdh.fkine([30,60,70])"
   ]
  },
  {
   "cell_type": "code",
   "execution_count": 491,
   "id": "29f22fb5-86ec-478a-bebf-3c2e5966ee5f",
   "metadata": {},
   "outputs": [
    {
     "data": {
      "text/plain": [
       "  -0.05666   0.1435    0.988     0.1736    \n",
       "   0.3629   -0.919     0.1543    0.5091    \n",
       "   0.9301    0.3673    0         0.1524    \n",
       "   0         0         0         1         \n"
      ]
     },
     "execution_count": 491,
     "metadata": {},
     "output_type": "execute_result"
    }
   ],
   "source": [
    "T_spatial"
   ]
  },
  {
   "cell_type": "code",
   "execution_count": 492,
   "id": "876ce77d-fa76-4225-a8e7-bf6d1ecf4017",
   "metadata": {},
   "outputs": [],
   "source": [
    "T_spatial_ = r_dh.fkine([30,60,70])"
   ]
  },
  {
   "cell_type": "code",
   "execution_count": 493,
   "id": "2a940e48-ba3a-400a-9719-77b59a69c9fd",
   "metadata": {},
   "outputs": [
    {
     "data": {
      "text/plain": [
       "  -0.05666   0.1435    0.988     0.1736    \n",
       "   0.3629   -0.919     0.1543    0.5091    \n",
       "   0.9301    0.3673    0         0.1524    \n",
       "   0         0         0         1         \n"
      ]
     },
     "execution_count": 493,
     "metadata": {},
     "output_type": "execute_result"
    }
   ],
   "source": [
    "T_spatial_"
   ]
  },
  {
   "cell_type": "code",
   "execution_count": 8,
   "id": "d40f715e-da26-4115-8303-67775394962f",
   "metadata": {},
   "outputs": [],
   "source": [
    "class Scaramdh(rtb.DHRobot):\n",
    "\n",
    "    def __init__(self):\n",
    "        super().__init__(\n",
    "                [\n",
    "                    rtb.RevoluteMDH(),\n",
    "                    rtb.RevoluteMDH(a=1),\n",
    "                   \n",
    "                    rtb.PrismaticMDH(a=1),\n",
    "                     rtb.RevoluteMDH(alpha=np.pi,d=1),\n",
    "                    #rtb.RevoluteMDH(a=L1,d=d),\n",
    "                    #rtb.RevoluteMDH(a=0.5,d=0.25),\n",
    "                ], name=\"Spatial3R\"\n",
    "                        )"
   ]
  },
  {
   "cell_type": "code",
   "execution_count": 9,
   "id": "ca0b60a6-7f08-455b-b2e8-b4777ce52e47",
   "metadata": {},
   "outputs": [],
   "source": [
    "scmdh = Scaramdh()"
   ]
  },
  {
   "cell_type": "code",
   "execution_count": 10,
   "id": "b90c61a3-1bc3-4629-bf28-183d681ccbc1",
   "metadata": {},
   "outputs": [
    {
     "name": "stdout",
     "output_type": "stream",
     "text": [
      "DHRobot: Spatial3R, 4 joints (RRPR), dynamics, modified DH parameters\n",
      "┏━━━━━┳━━━━━━━━┳━━━━━━┳━━━━━┓\n",
      "┃aⱼ₋₁ ┃  ⍺ⱼ₋₁  ┃  θⱼ  ┃ dⱼ  ┃\n",
      "┣━━━━━╋━━━━━━━━╋━━━━━━╋━━━━━┫\n",
      "┃ 0.0 ┃   0.0° ┃   q1 ┃ 0.0 ┃\n",
      "┃   1 ┃   0.0° ┃   q2 ┃ 0.0 ┃\n",
      "┃   1 ┃   0.0° ┃ 0.0° ┃  q3 ┃\n",
      "┃ 0.0 ┃ 180.0° ┃   q4 ┃   1 ┃\n",
      "┗━━━━━┻━━━━━━━━┻━━━━━━┻━━━━━┛\n",
      "\n"
     ]
    }
   ],
   "source": [
    "print(scmdh)"
   ]
  },
  {
   "cell_type": "code",
   "execution_count": 11,
   "id": "717927ca-7e80-485a-b89d-00e29e5e0a55",
   "metadata": {},
   "outputs": [],
   "source": [
    "class Scaradh(rtb.DHRobot):\n",
    "\n",
    "    def __init__(self):\n",
    "        super().__init__(\n",
    "                [\n",
    "                    rtb.RevoluteDH(a=1),\n",
    "                    rtb.RevoluteDH(a=1),\n",
    "                   \n",
    "                    rtb.PrismaticDH(alpha=np.pi),\n",
    "                     rtb.RevoluteDH(d=1),\n",
    "                    #rtb.RevoluteMDH(a=L1,d=d),\n",
    "                    #rtb.RevoluteMDH(a=0.5,d=0.25),\n",
    "                ], name=\"Spatial3R\"\n",
    "                        )\n",
    "        "
   ]
  },
  {
   "cell_type": "code",
   "execution_count": 14,
   "id": "5c8e422b-5195-4b78-8141-d33b8d53bcce",
   "metadata": {},
   "outputs": [
    {
     "name": "stdout",
     "output_type": "stream",
     "text": [
      "DHRobot: Spatial3R, 4 joints (RRPR), dynamics, standard DH parameters\n",
      "┏━━━━━┳━━━━━┳━━━━┳━━━━━━━━┓\n",
      "┃ θⱼ  ┃ dⱼ  ┃ aⱼ ┃   ⍺ⱼ   ┃\n",
      "┣━━━━━╋━━━━━╋━━━━╋━━━━━━━━┫\n",
      "┃ q1  ┃   0 ┃  1 ┃   0.0° ┃\n",
      "┃ q2  ┃   0 ┃  1 ┃   0.0° ┃\n",
      "┃0.0° ┃  q3 ┃  0 ┃ 180.0° ┃\n",
      "┃ q4  ┃   1 ┃  0 ┃   0.0° ┃\n",
      "┗━━━━━┻━━━━━┻━━━━┻━━━━━━━━┛\n",
      "\n"
     ]
    }
   ],
   "source": [
    "scdh = Scaradh()\n",
    "print(scdh)"
   ]
  },
  {
   "cell_type": "code",
   "execution_count": 13,
   "id": "78d307e1-0448-4759-bac6-b544a8be0d32",
   "metadata": {},
   "outputs": [
    {
     "data": {
      "text/plain": [
       "  -0.9524   -0.3048    0        -0.2938    \n",
       "  -0.3048    0.9524    0        -0.09403   \n",
       "   0         0        -1        -1.5       \n",
       "   0         0         0         1         \n"
      ]
     },
     "execution_count": 13,
     "metadata": {},
     "output_type": "execute_result"
    }
   ],
   "source": [
    "scmdh.fkine([30,60,-0.5,30])"
   ]
  },
  {
   "cell_type": "code",
   "execution_count": 468,
   "id": "760fe12b-937a-4f89-ab85-8c641b1e645e",
   "metadata": {},
   "outputs": [
    {
     "data": {
      "text/plain": [
       "  -0.9524   -0.3048    0        -0.2938    \n",
       "  -0.3048    0.9524    0        -0.09403   \n",
       "   0         0        -1        -1.5       \n",
       "   0         0         0         1         \n"
      ]
     },
     "execution_count": 468,
     "metadata": {},
     "output_type": "execute_result"
    }
   ],
   "source": [
    "scdh.fkine([30,60,-0.5,30])"
   ]
  },
  {
   "cell_type": "code",
   "execution_count": 15,
   "id": "eedfe26c-0504-4f98-8974-63d2caf7157e",
   "metadata": {},
   "outputs": [],
   "source": [
    "class Puma560MDH(rtb.DHRobot):\n",
    "\n",
    "    def __init__(self):\n",
    "        super().__init__(\n",
    "                [\n",
    "                    rtb.RevoluteMDH(),\n",
    "                    rtb.RevoluteMDH(alpha= -np.pi/2 , d=0.1),\n",
    "                    rtb.RevoluteMDH(a=1,d=-0.01),\n",
    "                    rtb.RevoluteMDH(alpha= np.pi/2,a=-0.01,d=1),\n",
    "                    rtb.RevoluteMDH(alpha=-np.pi/2),\n",
    "                    rtb.RevoluteMDH(alpha=np.pi/2)\n",
    "                ], name=\"Spatial3R\"\n",
    "                        )"
   ]
  },
  {
   "cell_type": "code",
   "execution_count": 16,
   "id": "9bdd5992-b4b0-4a2e-ae96-3bae5f34386f",
   "metadata": {},
   "outputs": [
    {
     "name": "stdout",
     "output_type": "stream",
     "text": [
      "DHRobot: Spatial3R, 6 joints (RRRRRR), dynamics, modified DH parameters\n",
      "┏━━━━━━┳━━━━━━━━┳━━━━━┳━━━━━━━┓\n",
      "┃aⱼ₋₁  ┃  ⍺ⱼ₋₁  ┃ θⱼ  ┃  dⱼ   ┃\n",
      "┣━━━━━━╋━━━━━━━━╋━━━━━╋━━━━━━━┫\n",
      "┃  0.0 ┃   0.0° ┃  q1 ┃   0.0 ┃\n",
      "┃  0.0 ┃ -90.0° ┃  q2 ┃   0.1 ┃\n",
      "┃    1 ┃   0.0° ┃  q3 ┃ -0.01 ┃\n",
      "┃-0.01 ┃  90.0° ┃  q4 ┃     1 ┃\n",
      "┃  0.0 ┃ -90.0° ┃  q5 ┃   0.0 ┃\n",
      "┃  0.0 ┃  90.0° ┃  q6 ┃   0.0 ┃\n",
      "┗━━━━━━┻━━━━━━━━┻━━━━━┻━━━━━━━┛\n",
      "\n"
     ]
    }
   ],
   "source": [
    "pmdh = Puma560MDH()\n",
    "print(pmdh)"
   ]
  },
  {
   "cell_type": "code",
   "execution_count": 17,
   "id": "9a1f967c-0068-4005-8f9e-3d515e56e8fb",
   "metadata": {},
   "outputs": [],
   "source": [
    "class Puma560DH(rtb.DHRobot):\n",
    "\n",
    "    def __init__(self):\n",
    "        super().__init__(\n",
    "                [\n",
    "                    rtb.RevoluteDH(alpha=-np.pi/2),\n",
    "                    rtb.RevoluteDH(d=0.1,a=1),\n",
    "                    rtb.RevoluteDH(d=-0.01,a=-0.01,alpha=np.pi/2),\n",
    "                    rtb.RevoluteDH(d=1,alpha=-np.pi/2),\n",
    "                    rtb.RevoluteDH(alpha=np.pi/2),\n",
    "                    rtb.RevoluteDH()\n",
    "                ], name=\"Spatial3R\"\n",
    "                        )"
   ]
  },
  {
   "cell_type": "code",
   "execution_count": 18,
   "id": "53ae3057-36a9-47b6-a131-a3d566c6350f",
   "metadata": {},
   "outputs": [
    {
     "name": "stdout",
     "output_type": "stream",
     "text": [
      "DHRobot: Spatial3R, 6 joints (RRRRRR), dynamics, standard DH parameters\n",
      "┏━━━━┳━━━━━━━┳━━━━━━━┳━━━━━━━━┓\n",
      "┃θⱼ  ┃  dⱼ   ┃  aⱼ   ┃   ⍺ⱼ   ┃\n",
      "┣━━━━╋━━━━━━━╋━━━━━━━╋━━━━━━━━┫\n",
      "┃ q1 ┃     0 ┃     0 ┃ -90.0° ┃\n",
      "┃ q2 ┃   0.1 ┃     1 ┃   0.0° ┃\n",
      "┃ q3 ┃ -0.01 ┃ -0.01 ┃  90.0° ┃\n",
      "┃ q4 ┃     1 ┃     0 ┃ -90.0° ┃\n",
      "┃ q5 ┃     0 ┃     0 ┃  90.0° ┃\n",
      "┃ q6 ┃     0 ┃     0 ┃   0.0° ┃\n",
      "┗━━━━┻━━━━━━━┻━━━━━━━┻━━━━━━━━┛\n",
      "\n"
     ]
    }
   ],
   "source": [
    "pdh = Puma560DH()\n",
    "print(pdh)"
   ]
  },
  {
   "cell_type": "code",
   "execution_count": 19,
   "id": "ab7a079a-ac04-4fc0-a196-e83ef138d2c2",
   "metadata": {},
   "outputs": [
    {
     "data": {
      "text/plain": [
       "   1         0         0         0.99      \n",
       "   0         1         0         0.09      \n",
       "   0         0         1         1         \n",
       "   0         0         0         1         \n"
      ]
     },
     "execution_count": 19,
     "metadata": {},
     "output_type": "execute_result"
    }
   ],
   "source": [
    "pmdh.fkine([0,0,0,0,0,0])"
   ]
  },
  {
   "cell_type": "code",
   "execution_count": 20,
   "id": "ffce63da-e0b1-45ee-bc46-f5a4738e9722",
   "metadata": {},
   "outputs": [
    {
     "data": {
      "text/plain": [
       "   1         0         0         0.99      \n",
       "   0         1         0         0.09      \n",
       "   0         0         1         1         \n",
       "   0         0         0         1         \n"
      ]
     },
     "execution_count": 20,
     "metadata": {},
     "output_type": "execute_result"
    }
   ],
   "source": [
    "pdh.fkine([0,0,0,0,0,0])"
   ]
  },
  {
   "cell_type": "code",
   "execution_count": 21,
   "id": "2d883a51-a994-4c3e-98c4-849876de3b7b",
   "metadata": {},
   "outputs": [
    {
     "data": {
      "text/plain": [
       "   1         0         0        -0.01      \n",
       "   0         1         0         0.09      \n",
       "   0         0         1         0         \n",
       "   0         0         0         1         \n"
      ]
     },
     "execution_count": 21,
     "metadata": {},
     "output_type": "execute_result"
    }
   ],
   "source": [
    "pmdh.fkine([0,np.pi/2,-np.pi/2,0,0,0])"
   ]
  },
  {
   "cell_type": "code",
   "execution_count": 22,
   "id": "5294ab63-1675-4962-90f3-dd81e2faca36",
   "metadata": {},
   "outputs": [
    {
     "data": {
      "text/plain": [
       "   1         0         0        -0.01      \n",
       "   0         1         0         0.09      \n",
       "   0         0         1         0         \n",
       "   0         0         0         1         \n"
      ]
     },
     "execution_count": 22,
     "metadata": {},
     "output_type": "execute_result"
    }
   ],
   "source": [
    "pdh.fkine([0,np.pi/2,-np.pi/2,0,0,0])"
   ]
  },
  {
   "cell_type": "code",
   "execution_count": 23,
   "id": "e198f2f7-2683-4fcd-b693-8ac2af826744",
   "metadata": {},
   "outputs": [
    {
     "data": {
      "text/plain": [
       "   0         0        -1         0         \n",
       "   0         1         0         0.09      \n",
       "   1         0         0        -0.01      \n",
       "   0         0         0         1         \n"
      ]
     },
     "execution_count": 23,
     "metadata": {},
     "output_type": "execute_result"
    }
   ],
   "source": [
    "pmdh.fkine([0,0,-np.pi/2,0,0,0])"
   ]
  },
  {
   "cell_type": "code",
   "execution_count": 24,
   "id": "faa0bb83-2763-4430-85a1-2f20b7aac168",
   "metadata": {},
   "outputs": [
    {
     "data": {
      "text/plain": [
       "   0         0        -1         0         \n",
       "   0         1         0         0.09      \n",
       "   1         0         0        -0.01      \n",
       "   0         0         0         1         \n"
      ]
     },
     "execution_count": 24,
     "metadata": {},
     "output_type": "execute_result"
    }
   ],
   "source": [
    "pdh.fkine([0,0,-np.pi/2,0,0,0])"
   ]
  },
  {
   "cell_type": "code",
   "execution_count": 25,
   "id": "b6d76aec-3f93-4072-a5a2-ffcd900f5d03",
   "metadata": {},
   "outputs": [
    {
     "data": {
      "text/plain": [
       "   0.2588    0        -0.9659    0.007071  \n",
       "   0         1         0         0.09      \n",
       "   0.9659    0         0.2588   -1.421     \n",
       "   0         0         0         1         \n"
      ]
     },
     "execution_count": 25,
     "metadata": {},
     "output_type": "execute_result"
    }
   ],
   "source": [
    "pmdh.fkine([0,np.pi/4,-np.pi,0,np.pi/3,0])"
   ]
  },
  {
   "cell_type": "code",
   "execution_count": 26,
   "id": "cc3a5d00-d244-40da-a016-5da028dcc71d",
   "metadata": {},
   "outputs": [
    {
     "data": {
      "text/plain": [
       "   0.2588    0        -0.9659    0.007071  \n",
       "   0         1         0         0.09      \n",
       "   0.9659    0         0.2588   -1.421     \n",
       "   0         0         0         1         \n"
      ]
     },
     "execution_count": 26,
     "metadata": {},
     "output_type": "execute_result"
    }
   ],
   "source": [
    "pdh.fkine([0,np.pi/4,-np.pi,0,np.pi/3,0])"
   ]
  },
  {
   "cell_type": "code",
   "execution_count": 34,
   "id": "d976ca30-0e39-423b-9e12-8a657bbed992",
   "metadata": {},
   "outputs": [],
   "source": [
    "class PandaMDH(rtb.DHRobot):\n",
    "\n",
    "    def __init__(self):\n",
    "        super().__init__(\n",
    "                [\n",
    "                    rtb.RevoluteMDH(d=0.333),\n",
    "                    rtb.RevoluteMDH(alpha= -np.pi/2 ),\n",
    "                    rtb.RevoluteMDH(d=0.316,alpha=np.pi/2),\n",
    "                    rtb.RevoluteMDH(a=0.0825,alpha=np.pi/2),\n",
    "                    rtb.RevoluteMDH(a=-0.0825,d=0.384,alpha=-np.pi/2),\n",
    "                    rtb.RevoluteMDH(alpha=np.pi/2),\n",
    "                    rtb.RevoluteMDH(a=0.088,alpha=np.pi/2,d=0.107),\n",
    "                    \n",
    "                    \n",
    "                   \n",
    "                ], name=\"Spatial3R\"\n",
    "                        )"
   ]
  },
  {
   "cell_type": "code",
   "execution_count": 35,
   "id": "dd1c4ba6-b4ed-458c-85e4-e01c113a05ae",
   "metadata": {},
   "outputs": [
    {
     "data": {
      "text/plain": [
       "   1         0         0         0.088     \n",
       "   0        -1         0         0         \n",
       "   0         0        -1         0.926     \n",
       "   0         0         0         1         \n"
      ]
     },
     "execution_count": 35,
     "metadata": {},
     "output_type": "execute_result"
    }
   ],
   "source": [
    "p_mdh = PandaMDH()\n",
    "p_mdh.fkine([0,0,0,0,0,0,0])"
   ]
  },
  {
   "cell_type": "code",
   "execution_count": 39,
   "id": "9704de6f-c631-4fa2-983d-fca8ebfb26f3",
   "metadata": {},
   "outputs": [
    {
     "data": {
      "text/plain": [
       "   0         0        -1        -0.107     \n",
       "   1         0         0         0         \n",
       "   0        -1         0         0.945     \n",
       "   0         0         0         1         \n"
      ]
     },
     "execution_count": 39,
     "metadata": {},
     "output_type": "execute_result"
    }
   ],
   "source": [
    "p_mdh = PandaMDH()\n",
    "p_mdh.fkine([0,0,0,0,0,-np.pi/2,-np.pi/2])"
   ]
  },
  {
   "cell_type": "code",
   "execution_count": 36,
   "id": "9355145e-9b86-44ce-92ba-c4e573c5eb05",
   "metadata": {},
   "outputs": [],
   "source": [
    "class PandaDH(rtb.DHRobot):\n",
    "\n",
    "    def __init__(self):\n",
    "        super().__init__(\n",
    "                [\n",
    "                    rtb.RevoluteDH(d=0.333,alpha=-np.pi/2),\n",
    "                    rtb.RevoluteDH(d=-0.0825 , alpha= np.pi/2 ),\n",
    "                    rtb.RevoluteDH(d=0.316,a=0.088,alpha=np.pi/2),\n",
    "                    rtb.RevoluteDH(d=-0.0825,a = -0.088,alpha=-np.pi/2),\n",
    "                    rtb.RevoluteDH(d=0.384,alpha=np.pi/2),\n",
    "                    rtb.RevoluteDH(a=0.088,alpha=np.pi/2),\n",
    "                    rtb.RevoluteDH(d=0.107),\n",
    "                    \n",
    "                    \n",
    "                   \n",
    "                ], name=\"Spatial3R\"\n",
    "                        )"
   ]
  },
  {
   "cell_type": "code",
   "execution_count": 37,
   "id": "e6af6203-062f-456f-9de6-70e00c61b51b",
   "metadata": {},
   "outputs": [
    {
     "data": {
      "text/plain": [
       "   1         0         0         0.088     \n",
       "   0        -1         0         0         \n",
       "   0         0        -1         0.926     \n",
       "   0         0         0         1         \n"
      ]
     },
     "execution_count": 37,
     "metadata": {},
     "output_type": "execute_result"
    }
   ],
   "source": [
    "p_dh = PandaDH()\n",
    "p_dh.fkine([0,0,0,0,0,0,0])"
   ]
  },
  {
   "cell_type": "code",
   "execution_count": 40,
   "id": "025b5849-90ab-4fe7-b63a-14df97a02c96",
   "metadata": {},
   "outputs": [
    {
     "data": {
      "text/plain": [
       "   0         0        -1        -0.107     \n",
       "   1         0         0         0         \n",
       "   0        -1         0         0.945     \n",
       "   0         0         0         1         \n"
      ]
     },
     "execution_count": 40,
     "metadata": {},
     "output_type": "execute_result"
    }
   ],
   "source": [
    "p_dh = PandaDH()\n",
    "p_dh.fkine([0,0,0,0,0,-np.pi/2,-np.pi/2])"
   ]
  },
  {
   "cell_type": "code",
   "execution_count": 42,
   "id": "36cc55af-fcc4-42c3-a657-927a686ca37f",
   "metadata": {},
   "outputs": [
    {
     "data": {
      "text/plain": [
       "  -1         0         0         0         \n",
       "   0         0        -1        -0.107     \n",
       "   0        -1         0         0.945     \n",
       "   0         0         0         1         \n"
      ]
     },
     "execution_count": 42,
     "metadata": {},
     "output_type": "execute_result"
    }
   ],
   "source": [
    "p_mdh = PandaMDH()\n",
    "p_mdh.fkine([np.pi/2,0,0,0,0,-np.pi/2,-np.pi/2])"
   ]
  },
  {
   "cell_type": "code",
   "execution_count": 43,
   "id": "66594ee7-2dec-47c2-8354-b05b512b7626",
   "metadata": {},
   "outputs": [
    {
     "data": {
      "text/plain": [
       "  -1         0         0         0         \n",
       "   0         0        -1        -0.107     \n",
       "   0        -1         0         0.945     \n",
       "   0         0         0         1         \n"
      ]
     },
     "execution_count": 43,
     "metadata": {},
     "output_type": "execute_result"
    }
   ],
   "source": [
    "p_mdh = PandaMDH()\n",
    "p_mdh.fkine([np.pi/2,0,0,0,0,-np.pi/2,-np.pi/2])"
   ]
  },
  {
   "cell_type": "code",
   "execution_count": null,
   "id": "97a4613b-dbdf-44ce-9c06-04081699ef5a",
   "metadata": {},
   "outputs": [],
   "source": []
  }
 ],
 "metadata": {
  "kernelspec": {
   "display_name": "Python 3 (ipykernel)",
   "language": "python",
   "name": "python3"
  },
  "language_info": {
   "codemirror_mode": {
    "name": "ipython",
    "version": 3
   },
   "file_extension": ".py",
   "mimetype": "text/x-python",
   "name": "python",
   "nbconvert_exporter": "python",
   "pygments_lexer": "ipython3",
   "version": "3.8.12"
  }
 },
 "nbformat": 4,
 "nbformat_minor": 5
}
